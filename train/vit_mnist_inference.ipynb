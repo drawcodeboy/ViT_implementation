{
 "cells": [
  {
   "cell_type": "code",
   "execution_count": 1,
   "id": "7617319c-8ebe-4b20-8a6e-49b7f9e0c69f",
   "metadata": {},
   "outputs": [],
   "source": [
    "import sys"
   ]
  },
  {
   "cell_type": "code",
   "execution_count": 2,
   "id": "caa7a177-3369-431a-bd01-920667b0fb61",
   "metadata": {},
   "outputs": [
    {
     "name": "stdout",
     "output_type": "stream",
     "text": [
      "['G:\\\\Doby\\\\ViT\\\\train', 'C:\\\\Users\\\\user\\\\anaconda3\\\\python310.zip', 'C:\\\\Users\\\\user\\\\anaconda3\\\\DLLs', 'C:\\\\Users\\\\user\\\\anaconda3\\\\lib', 'C:\\\\Users\\\\user\\\\anaconda3', '', 'C:\\\\Users\\\\user\\\\anaconda3\\\\lib\\\\site-packages', 'C:\\\\Users\\\\user\\\\anaconda3\\\\lib\\\\site-packages\\\\win32', 'C:\\\\Users\\\\user\\\\anaconda3\\\\lib\\\\site-packages\\\\win32\\\\lib', 'C:\\\\Users\\\\user\\\\anaconda3\\\\lib\\\\site-packages\\\\Pythonwin']\n"
     ]
    }
   ],
   "source": [
    "print(sys.path)"
   ]
  },
  {
   "cell_type": "code",
   "execution_count": 3,
   "id": "34ccd929-250d-4c25-bcc5-87e9a586095c",
   "metadata": {},
   "outputs": [],
   "source": [
    "sys.path.append('G:\\\\Doby\\\\ViT')"
   ]
  },
  {
   "cell_type": "code",
   "execution_count": 12,
   "id": "b33aa56d-5dc3-4129-8a77-8710f4a9f455",
   "metadata": {},
   "outputs": [],
   "source": [
    "import torch\n",
    "from torch import nn\n",
    "from torch.utils.data import Dataset\n",
    "from torch.utils.data import DataLoader\n",
    "import numpy as np\n",
    "import matplotlib.pyplot as plt\n",
    "from torchvision import datasets\n",
    "from torchvision import transforms\n",
    "from PIL import Image\n",
    "from torchinfo import summary\n",
    "import os\n",
    "os.environ['KMP_DUPLICATE_LIB_OK'] = 'True'\n",
    "\n",
    "from models.ViT import ViT"
   ]
  },
  {
   "cell_type": "code",
   "execution_count": 13,
   "id": "24061195-9bd4-483d-b9c2-50b67d9713f4",
   "metadata": {},
   "outputs": [],
   "source": [
    "vit = torch.load('vit_mnist_epoch4_batch16.pt')"
   ]
  },
  {
   "cell_type": "code",
   "execution_count": 15,
   "id": "f278ad57-0cf9-4313-beac-33b052c133ff",
   "metadata": {
    "collapsed": true,
    "jupyter": {
     "outputs_hidden": true
    },
    "scrolled": true
   },
   "outputs": [
    {
     "data": {
      "text/plain": [
       "==========================================================================================\n",
       "Layer (type:depth-idx)                   Output Shape              Param #\n",
       "==========================================================================================\n",
       "ViT                                      [1, 10]                   --\n",
       "├─InputEmbedding: 1-1                    [1, 50, 10]               510\n",
       "│    └─PatchEmbedding: 2-1               [1, 49, 10]               --\n",
       "│    │    └─Flatten: 3-1                 [1, 16]                   --\n",
       "│    │    └─Flatten: 3-2                 [1, 16]                   --\n",
       "│    │    └─Flatten: 3-3                 [1, 16]                   --\n",
       "│    │    └─Flatten: 3-4                 [1, 16]                   --\n",
       "│    │    └─Flatten: 3-5                 [1, 16]                   --\n",
       "│    │    └─Flatten: 3-6                 [1, 16]                   --\n",
       "│    │    └─Flatten: 3-7                 [1, 16]                   --\n",
       "│    │    └─Flatten: 3-8                 [1, 16]                   --\n",
       "│    │    └─Flatten: 3-9                 [1, 16]                   --\n",
       "│    │    └─Flatten: 3-10                [1, 16]                   --\n",
       "│    │    └─Flatten: 3-11                [1, 16]                   --\n",
       "│    │    └─Flatten: 3-12                [1, 16]                   --\n",
       "│    │    └─Flatten: 3-13                [1, 16]                   --\n",
       "│    │    └─Flatten: 3-14                [1, 16]                   --\n",
       "│    │    └─Flatten: 3-15                [1, 16]                   --\n",
       "│    │    └─Flatten: 3-16                [1, 16]                   --\n",
       "│    │    └─Flatten: 3-17                [1, 16]                   --\n",
       "│    │    └─Flatten: 3-18                [1, 16]                   --\n",
       "│    │    └─Flatten: 3-19                [1, 16]                   --\n",
       "│    │    └─Flatten: 3-20                [1, 16]                   --\n",
       "│    │    └─Flatten: 3-21                [1, 16]                   --\n",
       "│    │    └─Flatten: 3-22                [1, 16]                   --\n",
       "│    │    └─Flatten: 3-23                [1, 16]                   --\n",
       "│    │    └─Flatten: 3-24                [1, 16]                   --\n",
       "│    │    └─Flatten: 3-25                [1, 16]                   --\n",
       "│    │    └─Flatten: 3-26                [1, 16]                   --\n",
       "│    │    └─Flatten: 3-27                [1, 16]                   --\n",
       "│    │    └─Flatten: 3-28                [1, 16]                   --\n",
       "│    │    └─Flatten: 3-29                [1, 16]                   --\n",
       "│    │    └─Flatten: 3-30                [1, 16]                   --\n",
       "│    │    └─Flatten: 3-31                [1, 16]                   --\n",
       "│    │    └─Flatten: 3-32                [1, 16]                   --\n",
       "│    │    └─Flatten: 3-33                [1, 16]                   --\n",
       "│    │    └─Flatten: 3-34                [1, 16]                   --\n",
       "│    │    └─Flatten: 3-35                [1, 16]                   --\n",
       "│    │    └─Flatten: 3-36                [1, 16]                   --\n",
       "│    │    └─Flatten: 3-37                [1, 16]                   --\n",
       "│    │    └─Flatten: 3-38                [1, 16]                   --\n",
       "│    │    └─Flatten: 3-39                [1, 16]                   --\n",
       "│    │    └─Flatten: 3-40                [1, 16]                   --\n",
       "│    │    └─Flatten: 3-41                [1, 16]                   --\n",
       "│    │    └─Flatten: 3-42                [1, 16]                   --\n",
       "│    │    └─Flatten: 3-43                [1, 16]                   --\n",
       "│    │    └─Flatten: 3-44                [1, 16]                   --\n",
       "│    │    └─Flatten: 3-45                [1, 16]                   --\n",
       "│    │    └─Flatten: 3-46                [1, 16]                   --\n",
       "│    │    └─Flatten: 3-47                [1, 16]                   --\n",
       "│    │    └─Flatten: 3-48                [1, 16]                   --\n",
       "│    │    └─Flatten: 3-49                [1, 16]                   --\n",
       "│    │    └─ModuleList: 3-50             --                        8,330\n",
       "├─ModuleList: 1-2                        --                        --\n",
       "│    └─TransformerEncoder: 2-2           [1, 50, 10]               --\n",
       "│    │    └─LayerNorm: 3-51              [1, 50, 10]               20\n",
       "│    │    └─MultiHeadAttention: 3-52     [1, 50, 10]               800\n",
       "│    │    └─LayerNorm: 3-53              [1, 50, 10]               20\n",
       "│    │    └─Sequential: 3-54             [1, 50, 10]               430\n",
       "│    └─TransformerEncoder: 2-3           [1, 50, 10]               --\n",
       "│    │    └─LayerNorm: 3-55              [1, 50, 10]               20\n",
       "│    │    └─MultiHeadAttention: 3-56     [1, 50, 10]               800\n",
       "│    │    └─LayerNorm: 3-57              [1, 50, 10]               20\n",
       "│    │    └─Sequential: 3-58             [1, 50, 10]               430\n",
       "│    └─TransformerEncoder: 2-4           [1, 50, 10]               --\n",
       "│    │    └─LayerNorm: 3-59              [1, 50, 10]               20\n",
       "│    │    └─MultiHeadAttention: 3-60     [1, 50, 10]               800\n",
       "│    │    └─LayerNorm: 3-61              [1, 50, 10]               20\n",
       "│    │    └─Sequential: 3-62             [1, 50, 10]               430\n",
       "│    └─TransformerEncoder: 2-5           [1, 50, 10]               --\n",
       "│    │    └─LayerNorm: 3-63              [1, 50, 10]               20\n",
       "│    │    └─MultiHeadAttention: 3-64     [1, 50, 10]               800\n",
       "│    │    └─LayerNorm: 3-65              [1, 50, 10]               20\n",
       "│    │    └─Sequential: 3-66             [1, 50, 10]               430\n",
       "│    └─TransformerEncoder: 2-6           [1, 50, 10]               --\n",
       "│    │    └─LayerNorm: 3-67              [1, 50, 10]               20\n",
       "│    │    └─MultiHeadAttention: 3-68     [1, 50, 10]               800\n",
       "│    │    └─LayerNorm: 3-69              [1, 50, 10]               20\n",
       "│    │    └─Sequential: 3-70             [1, 50, 10]               430\n",
       "│    └─TransformerEncoder: 2-7           [1, 50, 10]               --\n",
       "│    │    └─LayerNorm: 3-71              [1, 50, 10]               20\n",
       "│    │    └─MultiHeadAttention: 3-72     [1, 50, 10]               800\n",
       "│    │    └─LayerNorm: 3-73              [1, 50, 10]               20\n",
       "│    │    └─Sequential: 3-74             [1, 50, 10]               430\n",
       "├─Sequential: 1-3                        [1, 10]                   --\n",
       "│    └─Linear: 2-8                       [1, 30]                   330\n",
       "│    └─GELU: 2-9                         [1, 30]                   --\n",
       "│    └─Linear: 2-10                      [1, 10]                   310\n",
       "==========================================================================================\n",
       "Total params: 17,100\n",
       "Trainable params: 17,100\n",
       "Non-trainable params: 0\n",
       "Total mult-adds (M): 0.01\n",
       "==========================================================================================\n",
       "Input size (MB): 0.00\n",
       "Forward/backward pass size (MB): 0.15\n",
       "Params size (MB): 0.07\n",
       "Estimated Total Size (MB): 0.22\n",
       "=========================================================================================="
      ]
     },
     "execution_count": 15,
     "metadata": {},
     "output_type": "execute_result"
    }
   ],
   "source": [
    "summary(vit, (1, 1, 28, 28))"
   ]
  },
  {
   "cell_type": "code",
   "execution_count": 16,
   "id": "fe70e46a-5c56-4152-8ada-d4fea71b2fcd",
   "metadata": {},
   "outputs": [],
   "source": [
    "test_data = datasets.MNIST(root='./mnist_test',\n",
    "                            train=False,\n",
    "                            download=True,\n",
    "                            transform=transforms.ToTensor())"
   ]
  },
  {
   "cell_type": "code",
   "execution_count": 17,
   "id": "0b0c503e-9012-44b0-82ed-fbbe05c95369",
   "metadata": {},
   "outputs": [
    {
     "data": {
      "text/plain": [
       "10000"
      ]
     },
     "execution_count": 17,
     "metadata": {},
     "output_type": "execute_result"
    }
   ],
   "source": [
    "len(test_data)"
   ]
  },
  {
   "cell_type": "code",
   "execution_count": 18,
   "id": "8142b15e-f6e9-43d2-a3d5-a053151be484",
   "metadata": {},
   "outputs": [],
   "source": [
    "test_loader = DataLoader(dataset=test_data,\n",
    "                         batch_size=1,\n",
    "                         shuffle=True)"
   ]
  },
  {
   "cell_type": "code",
   "execution_count": 35,
   "id": "97a0f6ec-07d9-4449-98f1-9aab84521dc6",
   "metadata": {},
   "outputs": [
    {
     "data": {
      "image/png": "[encoded data removed]",
      "text/plain": [
       "<Figure size 640x480 with 9 Axes>"
      ]
     },
     "metadata": {},
     "output_type": "display_data"
    }
   ],
   "source": [
    "fig = plt.figure()\n",
    "rows = 3\n",
    "cols = 3\n",
    "\n",
    "test_num = 9\n",
    "with torch.no_grad():\n",
    "    for i, (batch, target) in enumerate(test_loader, 1):\n",
    "        output = vit(batch)\n",
    "        output = output.squeeze().argmax()\n",
    "        pred = output.item()\n",
    "        target = target.squeeze().item()\n",
    "\n",
    "        ax = fig.add_subplot(rows, cols, i)\n",
    "        ax.imshow(batch.squeeze().numpy(), cmap='gray')\n",
    "        ax.set_title(f'pred:{pred} label:{target}')\n",
    "        ax.axis('off')\n",
    "\n",
    "        '''\n",
    "        plt.title(f'predict = {pred}, target = {target}')\n",
    "        plt.imshow(batch.squeeze().numpy(), cmap='gray')\n",
    "        plt.axis('off')\n",
    "        plt.show()\n",
    "        '''\n",
    "        if i == test_num:\n",
    "            break\n",
    "plt.show()"
   ]
  }
 ],
 "metadata": {
  "kernelspec": {
   "display_name": "Python 3 (ipykernel)",
   "language": "python",
   "name": "python3"
  },
  "language_info": {
   "codemirror_mode": {
    "name": "ipython",
    "version": 3
   },
   "file_extension": ".py",
   "mimetype": "text/x-python",
   "name": "python",
   "nbconvert_exporter": "python",
   "pygments_lexer": "ipython3",
   "version": "3.10.9"
  }
 },
 "nbformat": 4,
 "nbformat_minor": 5
}
