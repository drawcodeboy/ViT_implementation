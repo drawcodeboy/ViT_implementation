{
 "cells": [
  {
   "cell_type": "code",
   "execution_count": 3,
   "id": "e6adb86b-36e7-4ed0-87f7-1e6788fa7d41",
   "metadata": {},
   "outputs": [
    {
     "ename": "ModuleNotFoundError",
     "evalue": "No module named 'models'",
     "output_type": "error",
     "traceback": [
      "\u001b[1;31m---------------------------------------------------------------------------\u001b[0m",
      "\u001b[1;31mModuleNotFoundError\u001b[0m                       Traceback (most recent call last)",
      "Cell \u001b[1;32mIn[3], line 1\u001b[0m\n\u001b[1;32m----> 1\u001b[0m \u001b[38;5;28;01mfrom\u001b[39;00m \u001b[38;5;21;01mmodels\u001b[39;00m\u001b[38;5;21;01m.\u001b[39;00m\u001b[38;5;21;01mattention\u001b[39;00m\u001b[38;5;21;01m.\u001b[39;00m\u001b[38;5;21;01mscaled_dot_product_attention\u001b[39;00m \u001b[38;5;28;01mimport\u001b[39;00m ScaledDotProductAttention\n\u001b[0;32m      2\u001b[0m \u001b[38;5;28;01mimport\u001b[39;00m \u001b[38;5;21;01mtorch\u001b[39;00m\n\u001b[0;32m      3\u001b[0m \u001b[38;5;28;01mfrom\u001b[39;00m \u001b[38;5;21;01mtorch\u001b[39;00m \u001b[38;5;28;01mimport\u001b[39;00m nn\n",
      "\u001b[1;31mModuleNotFoundError\u001b[0m: No module named 'models'"
     ]
    }
   ],
   "source": [
    "from models.attention.scaled_dot_product_attention import ScaledDotProductAttention\n",
    "import torch\n",
    "from torch import nn"
   ]
  },
  {
   "cell_type": "code",
   "execution_count": 2,
   "id": "e50ed4c9-e1c7-4231-9be4-08ef868e79e1",
   "metadata": {},
   "outputs": [],
   "source": [
    "class MultiHeadAttention(nn.Module):\n",
    "    def __init__(self, embedding_length, qkv_dim, head_num):\n",
    "        '''\n",
    "        embedding_length : embedding 하나의 길이 -> W_(qkv)의 row 값이 된다.\n",
    "        qkv_dim : W_(qkv) 행렬의 col 값\n",
    "        head_num : ScaledDotProductAttention의 개수\n",
    "\n",
    "        Output Shape : (Embedding 개수, QKV Matrix의 Col 길이)\n",
    "        '''\n",
    "        super().__init__()\n",
    "\n",
    "        self.att_li = [ScaledDotProductAttention(embedding_length, qkv_dim) for _ in range(head_num)]\n",
    "        self.W_o = nn.Parameter(torch.randn(qkv_dim * head_num, qkv_dim))\n",
    "\n",
    "    def forward(self, x):\n",
    "        att_weighted_values = []\n",
    "        for att in self.att_li:\n",
    "            att_weighted_values.append(att(x))\n",
    "\n",
    "        head_atts = torch.concat(att_weighted_values, dim=-1)\n",
    "\n",
    "        print(f'head attentions shape {head_atts.shape}')\n",
    "        print(f'W_o shape {self.W_o.shape}')\n",
    "\n",
    "        final_att = head_atts @ self.W_o\n",
    "        \n",
    "        return final_att"
   ]
  },
  {
   "cell_type": "code",
   "execution_count": 7,
   "id": "1736e232-7c10-452a-b7ef-259d5bd5b22a",
   "metadata": {},
   "outputs": [],
   "source": [
    "multi_att = MultiHeadAttention(4, 5, 8)"
   ]
  },
  {
   "cell_type": "code",
   "execution_count": 8,
   "id": "50fa0f97-d76c-4f97-a1b5-0efdb8206675",
   "metadata": {},
   "outputs": [],
   "source": [
    "x = torch.randn(3, 4)"
   ]
  },
  {
   "cell_type": "code",
   "execution_count": 9,
   "id": "2bb5187b-0d9d-4f34-bc19-8fb5fad7b21a",
   "metadata": {},
   "outputs": [
    {
     "name": "stdout",
     "output_type": "stream",
     "text": [
      "head attentions shape torch.Size([3, 40])\n",
      "W_o shape torch.Size([40, 5])\n",
      "torch.Size([3, 5])\n"
     ]
    }
   ],
   "source": [
    "pred = multi_att(x)\n",
    "print(pred.shape)"
   ]
  }
 ],
 "metadata": {
  "kernelspec": {
   "display_name": "Python 3 (ipykernel)",
   "language": "python",
   "name": "python3"
  },
  "language_info": {
   "codemirror_mode": {
    "name": "ipython",
    "version": 3
   },
   "file_extension": ".py",
   "mimetype": "text/x-python",
   "name": "python",
   "nbconvert_exporter": "python",
   "pygments_lexer": "ipython3",
   "version": "3.10.9"
  }
 },
 "nbformat": 4,
 "nbformat_minor": 5
}
