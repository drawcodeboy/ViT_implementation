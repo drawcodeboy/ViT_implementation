{
 "cells": [
  {
   "cell_type": "markdown",
   "id": "f2449d59-542e-4d81-b837-3c8c0ff30eb3",
   "metadata": {},
   "source": [
    "### 파이썬이 패키지를 찾을 때, sys.path 탐색\n",
    "* 그래서 ViT 경로 넣어줌 models 패키지(라이브러리) 찾을 수 있게\n",
    "* <a href=\"https://devvvyang.tistory.com/31\">관련 포스팅</a>"
   ]
  },
  {
   "cell_type": "code",
   "execution_count": 42,
   "id": "70564564-9f83-493f-a569-07eb04c8902f",
   "metadata": {},
   "outputs": [
    {
     "name": "stdout",
     "output_type": "stream",
     "text": [
      "['G:\\\\Doby\\\\ViT\\\\models\\\\transformer_encoder', 'C:\\\\Users\\\\user\\\\anaconda3\\\\python310.zip', 'C:\\\\Users\\\\user\\\\anaconda3\\\\DLLs', 'C:\\\\Users\\\\user\\\\anaconda3\\\\lib', 'C:\\\\Users\\\\user\\\\anaconda3', '', 'C:\\\\Users\\\\user\\\\anaconda3\\\\lib\\\\site-packages', 'C:\\\\Users\\\\user\\\\anaconda3\\\\lib\\\\site-packages\\\\win32', 'C:\\\\Users\\\\user\\\\anaconda3\\\\lib\\\\site-packages\\\\win32\\\\lib', 'C:\\\\Users\\\\user\\\\anaconda3\\\\lib\\\\site-packages\\\\Pythonwin', 'G:\\\\Doby\\\\ViT']\n"
     ]
    }
   ],
   "source": [
    "import sys\n",
    "# sys.path.append('G:\\\\Doby\\\\ViT')\n",
    "print(sys.path)"
   ]
  },
  {
   "cell_type": "code",
   "execution_count": 52,
   "id": "02b0f845-e2c5-4994-ab3d-05790c2bc3ad",
   "metadata": {},
   "outputs": [],
   "source": [
    "import torch\n",
    "from torch import nn\n",
    "from torchinfo import summary\n",
    "from models.attention.multi_head_attention import MultiHeadAttention"
   ]
  },
  {
   "cell_type": "code",
   "execution_count": 64,
   "id": "d1a14587-deff-45a3-aa89-e152f61c582a",
   "metadata": {},
   "outputs": [],
   "source": [
    "class TransformerEncoder(nn.Module):\n",
    "    def __init__(self, embedding_size, d_dim, qkv_dim, head_num, hidden_dim):\n",
    "        '''\n",
    "        embedding_size : 임베딩의 개수\n",
    "        d_dim : 현재 임베딩의 차원 수\n",
    "        qkv_dim : attention 후에 임베딩의 차원 수 (현재 같아야 하는 것으로 추측)\n",
    "        head_num : Multi-Head Self-Attention에서 사용되는 Attention의 개수\n",
    "        hidden_dim : MLP에 사용되는 Hidden Layer의 Dimension\n",
    "        n_transformers : transformer layer의 수\n",
    "        \n",
    "        Input Shape : (embedding_size, d_dim)\n",
    "        Multi-Head Self-Attention Shape : (embedding_size, qkv_dim)\n",
    "        qkv_dim과 d_dim이 같아야 residual connection이 가능하다.\n",
    "        나의 오류일 수도 있으니 d_dim, qkv_dim 인자는 우선 구분해두자.\n",
    "\n",
    "        -> Input Shape, Output Shape가 같다.\n",
    "        '''\n",
    "        \n",
    "        super().__init__()\n",
    "        self.layer_norm1 = nn.LayerNorm(d_dim)\n",
    "        self.mhatt = MultiHeadAttention(d_dim, qkv_dim, head_num)\n",
    "\n",
    "        self.layer_norm2 = nn.LayerNorm(qkv_dim)\n",
    "        self.MLP = nn.Sequential(nn.Linear(qkv_dim, hidden_dim),\n",
    "                                 nn.GELU(),\n",
    "                                 nn.Linear(hidden_dim, qkv_dim))\n",
    "\n",
    "    def forward(self, x):\n",
    "        residual = x\n",
    "        x = self.layer_norm1(x)\n",
    "        x = self.mhatt(x)\n",
    "        x = x + residual\n",
    "\n",
    "        residual = x\n",
    "        x = self.layer_norm2(x)\n",
    "        x = self.MLP(x)\n",
    "        x = x + residual\n",
    "\n",
    "        return x"
   ]
  },
  {
   "cell_type": "code",
   "execution_count": 65,
   "id": "502d1944-4056-49b7-b7c4-b8840bb5c32f",
   "metadata": {},
   "outputs": [],
   "source": [
    "trs = TransformerEncoder(30, 10, 10, 8, 20)"
   ]
  },
  {
   "cell_type": "code",
   "execution_count": 66,
   "id": "d9521da8-9862-4cd7-b75d-f3bc352f1231",
   "metadata": {},
   "outputs": [
    {
     "data": {
      "text/plain": [
       "==========================================================================================\n",
       "Layer (type:depth-idx)                   Output Shape              Param #\n",
       "==========================================================================================\n",
       "TransformerEncoder                       [1, 30, 10]               --\n",
       "├─LayerNorm: 1-1                         [1, 30, 10]               20\n",
       "├─MultiHeadAttention: 1-2                [1, 30, 10]               800\n",
       "├─LayerNorm: 1-3                         [1, 30, 10]               20\n",
       "├─Sequential: 1-4                        [1, 30, 10]               --\n",
       "│    └─Linear: 2-1                       [1, 30, 20]               220\n",
       "│    └─GELU: 2-2                         [1, 30, 20]               --\n",
       "│    └─Linear: 2-3                       [1, 30, 10]               210\n",
       "==========================================================================================\n",
       "Total params: 1,270\n",
       "Trainable params: 1,270\n",
       "Non-trainable params: 0\n",
       "Total mult-adds (M): 0.00\n",
       "==========================================================================================\n",
       "Input size (MB): 0.00\n",
       "Forward/backward pass size (MB): 0.01\n",
       "Params size (MB): 0.01\n",
       "Estimated Total Size (MB): 0.02\n",
       "=========================================================================================="
      ]
     },
     "execution_count": 66,
     "metadata": {},
     "output_type": "execute_result"
    }
   ],
   "source": [
    "summary(trs, (1, 30, 10))"
   ]
  }
 ],
 "metadata": {
  "kernelspec": {
   "display_name": "Python 3 (ipykernel)",
   "language": "python",
   "name": "python3"
  },
  "language_info": {
   "codemirror_mode": {
    "name": "ipython",
    "version": 3
   },
   "file_extension": ".py",
   "mimetype": "text/x-python",
   "name": "python",
   "nbconvert_exporter": "python",
   "pygments_lexer": "ipython3",
   "version": "3.10.9"
  }
 },
 "nbformat": 4,
 "nbformat_minor": 5
}
